{
 "cells": [
  {
   "cell_type": "code",
   "execution_count": 4,
   "id": "4aec4325",
   "metadata": {},
   "outputs": [
    {
     "ename": "SyntaxError",
     "evalue": "invalid syntax (1185701603.py, line 12)",
     "output_type": "error",
     "traceback": [
      "\u001b[1;36m  Input \u001b[1;32mIn [4]\u001b[1;36m\u001b[0m\n\u001b[1;33m    class/value pair\u001b[0m\n\u001b[1;37m         ^\u001b[0m\n\u001b[1;31mSyntaxError\u001b[0m\u001b[1;31m:\u001b[0m invalid syntax\n"
     ]
    }
   ],
   "source": [
    "from sklearn.datasets import load_iris \n",
    "dataset = load_iris() \n",
    "X = dataset.data \n",
    "y = dataset.target\n",
    "attribute_means = X.mean(axis=0)\n",
    "from collections import defaultdict \n",
    "from operator import itemgetter\n",
    "def train_feature_value(X, y_true, feature, value):\n",
    "# Create a simple dictionary to count how frequency they give certain predictions\n",
    " class_counts = defaultdict(int)\n",
    "# Iterate through each sample and count the frequency of each\n",
    "class/value pair\n",
    " for sample, y in zip(X, y_true):\n",
    "    if sample[feature] == value: \n",
    "        class_counts[y] += 1\n",
    "# Now get the best one by sorting (highest first) and choosing the\n",
    "first item\n",
    "sorted_class_counts = sorted(class_counts.items(), key=itemgetter(1),\n",
    "                             reverse=True)\n",
    "most_frequent_class = sorted_class_counts[0][0]\n",
    " # The error is the number of samples that do not classify as the most\n",
    "frequent class\n",
    " # *and* have the feature value.\n",
    "    n_samples = X.shape[1]\n",
    "    error = sum([class_count for class_value, class_count in\n",
    "                 class_counts.items()\n",
    " if class_value != most_frequent_class])\n",
    "    return most_frequent_class, error\n",
    "def train(X, y_true, feature): \n",
    "    # Check that variable is a valid number \n",
    "    n_samples, n_features = X.shape \n",
    "    assert 0 <= feature < n_features \n",
    "    # Get all of the unique values that this variable has \n",
    "    values = set(X[:,feature]) \n",
    "    # Stores the predictors array that is returned \n",
    "    predictors = dict() \n",
    "    errors = [] \n",
    "    for current_value in values: \n",
    "        most_frequent_class, error = train_feature_value\n",
    "        (X, y_true, feature, current_value) \n",
    "        predictors[current_value] = most_frequent_class \n",
    "        errors.append(error) \n",
    "    # Compute the total error of using this feature to classify on \n",
    "    total_error = sum(errors) \n",
    "    return predictors, total_error\n",
    "    values = set(X[:,feature_index])\n",
    "predictors = {} \n",
    "    errors = []\n",
    "total_error = sum(errors)\n",
    "return predictors, total_error\n"
   ]
  },
  {
   "cell_type": "code",
   "execution_count": null,
   "id": "d7a65cd2",
   "metadata": {},
   "outputs": [],
   "source": []
  }
 ],
 "metadata": {
  "kernelspec": {
   "display_name": "Python 3 (ipykernel)",
   "language": "python",
   "name": "python3"
  },
  "language_info": {
   "codemirror_mode": {
    "name": "ipython",
    "version": 3
   },
   "file_extension": ".py",
   "mimetype": "text/x-python",
   "name": "python",
   "nbconvert_exporter": "python",
   "pygments_lexer": "ipython3",
   "version": "3.9.12"
  }
 },
 "nbformat": 4,
 "nbformat_minor": 5
}
